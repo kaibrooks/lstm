{
 "cells": [
  {
   "cell_type": "code",
   "execution_count": 1,
   "metadata": {
    "scrolled": true
   },
   "outputs": [],
   "source": [
    "# nobody knows anything\n",
    "#                  -Kai\n",
    "#\n",
    "# github.com/kaibrooks"
   ]
  },
  {
   "cell_type": "code",
   "execution_count": 2,
   "metadata": {
    "scrolled": true
   },
   "outputs": [
    {
     "name": "stderr",
     "output_type": "stream",
     "text": [
      "Using TensorFlow backend.\n"
     ]
    },
    {
     "name": "stdout",
     "output_type": "stream",
     "text": [
      "TensorFlow version 2.0.0\n",
      "Keras version 2.2.4-tf\n",
      "Numpy version 1.17.4\n"
     ]
    }
   ],
   "source": [
    "from __future__ import print_function\n",
    "from keras.callbacks import LambdaCallback\n",
    "from keras.callbacks import EarlyStopping\n",
    "from keras.callbacks import ModelCheckpoint\n",
    "from keras.models import Sequential\n",
    "from keras.models import load_model\n",
    "from keras.layers import Dense\n",
    "from keras.layers import LSTM\n",
    "from keras.optimizers import RMSprop\n",
    "from keras.utils.data_utils import get_file\n",
    "from keras.layers import Dropout # dropout crew 4 lyf\n",
    "import tensorflow as tf\n",
    "from tensorflow import keras as keras\n",
    "import numpy as np\n",
    "import random\n",
    "import sys\n",
    "import io\n",
    "import os\n",
    "import h5py\n",
    "import matplotlib.pyplot as plt # fancy plots\n",
    "from matplotlib import pyplot as plt\n",
    "from datetime import datetime # so we know how much time we've wasted\n",
    "\n",
    "print('TensorFlow version', tf.__version__)\n",
    "print('Keras version', keras.__version__)\n",
    "#print('SciPy version', scipy.__version__)\n",
    "print('Numpy version', np.__version__) \n",
    "#print('Pillow version', PIL.__version__) "
   ]
  },
  {
   "cell_type": "code",
   "execution_count": 3,
   "metadata": {
    "scrolled": true
   },
   "outputs": [
    {
     "data": {
      "text/plain": [
       "{'divide': 'warn', 'over': 'warn', 'under': 'ignore', 'invalid': 'warn'}"
      ]
     },
     "execution_count": 3,
     "metadata": {},
     "output_type": "execute_result"
    }
   ],
   "source": [
    "# doin thangs\n",
    "epochs = 60 #60\n",
    "epochOutput = False\n",
    "temperature = [0.2, 0.5, 1.0, 1.2]\n",
    "earlyStop = True\n",
    "\n",
    "\n",
    "np.seterr(divide='ignore') # ignore divide by zero warnings"
   ]
  },
  {
   "cell_type": "code",
   "execution_count": 22,
   "metadata": {
    "scrolled": false
   },
   "outputs": [
    {
     "name": "stdout",
     "output_type": "stream",
     "text": [
      "Loaded data/alice.txt\n",
      "corpus length : 144343\n",
      "unique chars  : 44\n",
      "total patterns: 48101\n",
      "\n",
      "corpus would be better at 1M words\n",
      "\n",
      "Vectorizing...\n",
      "Done\n"
     ]
    }
   ],
   "source": [
    "## get text file and parse it\n",
    "\n",
    "#path = get_file( # use this for http request\n",
    "#    'afile.txt',\n",
    "#    origin='http://omega.lul/afile.txt')\n",
    "\n",
    "# look for a .txt file in /data\n",
    "source = 'alice'\n",
    "\n",
    "path = os.path.join('data', source + '.txt')\n",
    "\n",
    "print('Loaded',path)\n",
    "\n",
    "# print sweet ~data~ about the file\n",
    "with open(path, encoding='utf-8', errors='ignore') as f: # errors=ignore strips non utf-8 chars\n",
    "    text = f.read().lower()\n",
    "\n",
    "chars = sorted(list(set(text)))\n",
    "\n",
    "char_indices = dict((c, i) for i, c in enumerate(chars))\n",
    "indices_char = dict((i, c) for i, c in enumerate(chars))\n",
    "\n",
    "# cut the text in semi-redundant sequences of maxlen characters\n",
    "maxlen = 40\n",
    "step = 3\n",
    "sentences = []\n",
    "next_chars = []\n",
    "for i in range(0, len(text) - maxlen, step):\n",
    "    sentences.append(text[i: i + maxlen])\n",
    "    next_chars.append(text[i + maxlen])\n",
    "\n",
    "print('corpus length :', len(text))\n",
    "print('unique chars  :', len(chars))\n",
    "print('total patterns:', len(sentences))\n",
    "print('') # empty line\n",
    "\n",
    "if len(text) < 100000:\n",
    "    print('corpus should be at least 100K words')\n",
    "    print('') # empty line\n",
    "elif len(text) < 1000000:\n",
    "    print('corpus would be better at 1M words')\n",
    "    print('') # empty line\n",
    "\n",
    "    \n",
    "print('Vectorizing...')\n",
    "x = np.zeros((len(sentences), maxlen, len(chars)), dtype=np.bool)\n",
    "y = np.zeros((len(sentences), len(chars)), dtype=np.bool)\n",
    "for i, sentence in enumerate(sentences):\n",
    "    for t, char in enumerate(sentence):\n",
    "        x[i, t, char_indices[char]] = 1\n",
    "    y[i, char_indices[next_chars[i]]] = 1\n",
    "print('Done')"
   ]
  },
  {
   "cell_type": "code",
   "execution_count": 23,
   "metadata": {
    "scrolled": false
   },
   "outputs": [
    {
     "name": "stdout",
     "output_type": "stream",
     "text": [
      "Building model...\n",
      "Done\n"
     ]
    }
   ],
   "source": [
    "## model\n",
    "# this has NO TEST DATASET\n",
    "\n",
    "print('Building model...')\n",
    "#model = Sequential()\n",
    "#model.add(LSTM(128, input_shape=(maxlen, len(chars))))\n",
    "#model.add(Dense(len(chars), activation='softmax'))\n",
    "#optimizer = RMSprop(learning_rate=0.01)\n",
    "#model.compile(loss='categorical_crossentropy', optimizer=optimizer)\n",
    "\n",
    "model = Sequential()\n",
    "model.add(LSTM(128, return_sequences=True, input_shape=(maxlen, len(chars))))\n",
    "model.add(Dropout(0.1))\n",
    "model.add(LSTM(128))\n",
    "model.add(Dropout(0.1))\n",
    "model.add(Dense(len(chars), activation='softmax'))\n",
    "\n",
    "optimizer = RMSprop(learning_rate=0.01)\n",
    "model.compile(loss='categorical_crossentropy', optimizer=optimizer) # metrics=['accuracy']\n",
    "\n",
    "print('Done')"
   ]
  },
  {
   "cell_type": "code",
   "execution_count": 6,
   "metadata": {
    "scrolled": true
   },
   "outputs": [
    {
     "name": "stdout",
     "output_type": "stream",
     "text": [
      "Starting training at 2019-12-13_17-50-08 UTC\n",
      "Epoch 1/60\n",
      "48101/48101 [==============================] - 49s 1ms/step - loss: 2.5313\n",
      "Epoch 2/60\n",
      "48101/48101 [==============================] - 49s 1ms/step - loss: 1.8769\n",
      "Epoch 3/60\n",
      "48101/48101 [==============================] - 49s 1ms/step - loss: 1.6771\n",
      "Epoch 4/60\n",
      "48101/48101 [==============================] - 49s 1ms/step - loss: 1.5572\n",
      "Epoch 5/60\n",
      "48101/48101 [==============================] - 49s 1ms/step - loss: 1.4739\n",
      "Epoch 6/60\n",
      "48101/48101 [==============================] - 49s 1ms/step - loss: 1.4144\n",
      "Epoch 7/60\n",
      "48101/48101 [==============================] - 49s 1ms/step - loss: 1.3575\n",
      "Epoch 8/60\n",
      "48101/48101 [==============================] - 49s 1ms/step - loss: 1.3238\n",
      "Epoch 9/60\n",
      "48101/48101 [==============================] - 49s 1ms/step - loss: 1.2808\n",
      "Epoch 10/60\n",
      "48101/48101 [==============================] - 49s 1ms/step - loss: 1.2513\n",
      "Epoch 11/60\n",
      "48101/48101 [==============================] - 50s 1ms/step - loss: 1.2219\n",
      "Epoch 12/60\n",
      "48101/48101 [==============================] - 50s 1ms/step - loss: 1.2046\n",
      "Epoch 13/60\n",
      "48101/48101 [==============================] - 50s 1ms/step - loss: 1.1771\n",
      "Epoch 14/60\n",
      "48101/48101 [==============================] - 50s 1ms/step - loss: 1.1605\n",
      "Epoch 15/60\n",
      "48101/48101 [==============================] - 53s 1ms/step - loss: 1.1449\n",
      "Epoch 16/60\n",
      "48101/48101 [==============================] - 57s 1ms/step - loss: 1.1319\n",
      "Epoch 17/60\n",
      "48101/48101 [==============================] - 50s 1ms/step - loss: 1.1142\n",
      "Epoch 18/60\n",
      "48101/48101 [==============================] - 50s 1ms/step - loss: 1.0965\n",
      "Epoch 19/60\n",
      "48101/48101 [==============================] - 50s 1ms/step - loss: 1.0948\n",
      "Epoch 20/60\n",
      "48101/48101 [==============================] - 50s 1ms/step - loss: 1.0810\n",
      "Epoch 21/60\n",
      "48101/48101 [==============================] - 50s 1ms/step - loss: 1.0712\n",
      "Epoch 22/60\n",
      "48101/48101 [==============================] - 50s 1ms/step - loss: 1.0572\n",
      "Epoch 23/60\n",
      "48101/48101 [==============================] - 50s 1ms/step - loss: 1.0439\n",
      "Epoch 24/60\n",
      "48101/48101 [==============================] - 50s 1ms/step - loss: 1.0384\n",
      "Epoch 25/60\n",
      "48101/48101 [==============================] - 50s 1ms/step - loss: 1.0296\n",
      "Epoch 26/60\n",
      "48101/48101 [==============================] - 50s 1ms/step - loss: 1.0179\n",
      "Epoch 27/60\n",
      "48101/48101 [==============================] - 50s 1ms/step - loss: 1.0048\n",
      "Epoch 28/60\n",
      "48101/48101 [==============================] - 50s 1ms/step - loss: 0.9973\n",
      "Epoch 29/60\n",
      "48101/48101 [==============================] - 50s 1ms/step - loss: 0.9840\n",
      "Epoch 30/60\n",
      "48101/48101 [==============================] - 50s 1ms/step - loss: 0.9872\n",
      "Epoch 31/60\n",
      "48101/48101 [==============================] - 51s 1ms/step - loss: 0.9702\n",
      "Epoch 32/60\n",
      "48101/48101 [==============================] - 50s 1ms/step - loss: 0.9684\n",
      "Epoch 33/60\n",
      "48101/48101 [==============================] - 50s 1ms/step - loss: 0.9603\n",
      "Epoch 34/60\n",
      "48101/48101 [==============================] - 50s 1ms/step - loss: 0.9534\n",
      "Epoch 35/60\n",
      "48101/48101 [==============================] - 50s 1ms/step - loss: 0.9425\n",
      "Epoch 36/60\n",
      "48101/48101 [==============================] - 50s 1ms/step - loss: 0.9372\n",
      "Epoch 37/60\n",
      "48101/48101 [==============================] - 50s 1ms/step - loss: 0.9325\n",
      "Epoch 38/60\n",
      "48101/48101 [==============================] - 50s 1ms/step - loss: 0.9177\n",
      "Epoch 39/60\n",
      "48101/48101 [==============================] - 50s 1ms/step - loss: 0.9186\n",
      "Epoch 40/60\n",
      "48101/48101 [==============================] - 50s 1ms/step - loss: 0.9017\n",
      "Epoch 41/60\n",
      "48101/48101 [==============================] - 51s 1ms/step - loss: 0.9060\n",
      "Epoch 42/60\n",
      "48101/48101 [==============================] - 50s 1ms/step - loss: 0.8968\n",
      "Epoch 43/60\n",
      "48101/48101 [==============================] - 50s 1ms/step - loss: 0.8900\n",
      "Epoch 44/60\n",
      "48101/48101 [==============================] - 50s 1ms/step - loss: 0.8870\n",
      "Epoch 45/60\n",
      "48101/48101 [==============================] - 50s 1ms/step - loss: 0.8777\n",
      "Epoch 46/60\n",
      "48101/48101 [==============================] - 50s 1ms/step - loss: 0.8657\n",
      "Epoch 47/60\n",
      "48101/48101 [==============================] - 50s 1ms/step - loss: 0.8578\n",
      "Epoch 48/60\n",
      "48101/48101 [==============================] - 50s 1ms/step - loss: 0.8590\n",
      "Epoch 49/60\n",
      "48101/48101 [==============================] - 50s 1ms/step - loss: 0.8542\n",
      "Epoch 50/60\n",
      "48101/48101 [==============================] - 50s 1ms/step - loss: 0.8439\n",
      "Epoch 51/60\n",
      "48101/48101 [==============================] - 50s 1ms/step - loss: 0.8412\n",
      "Epoch 52/60\n",
      "48101/48101 [==============================] - 50s 1ms/step - loss: 0.8403\n",
      "Epoch 53/60\n",
      "48101/48101 [==============================] - 50s 1ms/step - loss: 0.8352\n",
      "Epoch 54/60\n",
      "48101/48101 [==============================] - 51s 1ms/step - loss: 0.8345\n",
      "Epoch 55/60\n",
      "48101/48101 [==============================] - 51s 1ms/step - loss: 0.8182\n",
      "Epoch 56/60\n",
      "48101/48101 [==============================] - 50s 1ms/step - loss: 0.8122\n",
      "Epoch 57/60\n",
      "48101/48101 [==============================] - 50s 1ms/step - loss: 0.8147\n",
      "Epoch 58/60\n",
      "48101/48101 [==============================] - 50s 1ms/step - loss: 0.8140\n",
      "Epoch 59/60\n",
      "48101/48101 [==============================] - 52s 1ms/step - loss: 0.8065\n",
      "Epoch 60/60\n",
      "48101/48101 [==============================] - 51s 1ms/step - loss: 0.8069\n",
      "Finished training at 13-Dec-2019 18:40:23\n",
      "Model summary:\n",
      "Model: \"sequential_1\"\n",
      "_________________________________________________________________\n",
      "Layer (type)                 Output Shape              Param #   \n",
      "=================================================================\n",
      "lstm_1 (LSTM)                (None, 40, 128)           88576     \n",
      "_________________________________________________________________\n",
      "dropout_1 (Dropout)          (None, 40, 128)           0         \n",
      "_________________________________________________________________\n",
      "lstm_2 (LSTM)                (None, 128)               131584    \n",
      "_________________________________________________________________\n",
      "dropout_2 (Dropout)          (None, 128)               0         \n",
      "_________________________________________________________________\n",
      "dense_1 (Dense)              (None, 44)                5676      \n",
      "=================================================================\n",
      "Total params: 225,836\n",
      "Trainable params: 225,836\n",
      "Non-trainable params: 0\n",
      "_________________________________________________________________\n"
     ]
    }
   ],
   "source": [
    "# train me\n",
    "now = datetime.now()\n",
    "runDate = now.strftime(\"%Y-%m-%d_%H-%M-%S\")\n",
    "print(\"Starting training at\", runDate, 'UTC') # lets see how long this takes\n",
    "\n",
    "def sample(preds, temperature=1.0):\n",
    "    # helper function to sample an index from a probability array\n",
    "    preds = np.asarray(preds).astype('float64')\n",
    "    preds = np.log(preds) / temperature\n",
    "    exp_preds = np.exp(preds)\n",
    "    preds = exp_preds / np.sum(exp_preds)\n",
    "    probas = np.random.multinomial(1, preds, 1)\n",
    "    return np.argmax(probas)\n",
    "\n",
    "def on_epoch_end(epoch, _):\n",
    "    if epochOutput:\n",
    "        # print text at each epoch\n",
    "        print()\n",
    "        print('**************************** Generating text after Epoch: %d ****************************' % epoch)\n",
    "\n",
    "        start_index = random.randint(0, len(text) - maxlen - 1)\n",
    "        for temperature in [temperature]:\n",
    "            print('--------------- temperature: ', temperature, '---------------')\n",
    "\n",
    "            generated = ''\n",
    "            sentence = text[start_index: start_index + maxlen]\n",
    "            generated += sentence\n",
    "            print('--------------- seed: <', sentence,'>')\n",
    "            sys.stdout.write(generated)\n",
    "\n",
    "            for i in range(400):\n",
    "                x_pred = np.zeros((1, maxlen, len(chars)))\n",
    "                for t, char in enumerate(sentence):\n",
    "                    x_pred[0, t, char_indices[char]] = 1.\n",
    "\n",
    "                preds = model.predict(x_pred, verbose=0)[0]\n",
    "                next_index = sample(preds, temperature)\n",
    "                next_char = indices_char[next_index]\n",
    "\n",
    "                sentence = sentence[1:] + next_char\n",
    "                sys.stdout.write(next_char)\n",
    "                sys.stdout.flush()\n",
    "            print()\n",
    "\n",
    "print_callback = LambdaCallback(on_epoch_end=on_epoch_end)\n",
    "\n",
    "\n",
    "# early stopping\n",
    "# loss, accuracy\n",
    "\n",
    "if earlyStop:\n",
    "    #es = EarlyStopping(monitor='val_loss', mode='min', verbose=1)\n",
    "    #es = EarlyStopping(monitor='loss', mode='min', min_delta=1, baseline=0.1)\n",
    "    es = EarlyStopping(monitor='loss', mode='min', verbose=1, patience=round(epochs*1.1)) # stop early if no progress for 10% of max epochs\n",
    "\n",
    "\n",
    "mc1 = ModelCheckpoint('trained_models/best_model.h5', monitor='loss', mode='min', save_best_only=True)\n",
    "mc2 = ModelCheckpoint('trained_models/last_model.h5') # save model each run\n",
    "\n",
    "history = model.fit(x, y,\n",
    "          batch_size=128,\n",
    "          epochs=epochs,\n",
    "          callbacks=[print_callback, es, mc1, mc2]) # add back es!\n",
    "\n",
    "then = datetime.now()\n",
    "print(\"Finished training at\", then.strftime(\"%d-%b-%Y %H:%M:%S\")) # lets see how long this took\n",
    "\n",
    "print('Model summary:')\n",
    "model.summary()"
   ]
  },
  {
   "cell_type": "code",
   "execution_count": 7,
   "metadata": {
    "scrolled": true
   },
   "outputs": [
    {
     "name": "stdout",
     "output_type": "stream",
     "text": [
      "Saving...\n",
      "Saved last model at /tf/notebooks/trained_models/alice_2019-12-13_17-50-08_trainedmodel_last.h5 \n",
      "Saved best model at /tf/notebooks/trained_models/alice_2019-12-13_17-50-08_trainedmodel_best.h5 \n",
      "Saved summary at /tf/notebooks/trained_models/alice_2019-12-13_17-50-08_modelsummary.txt\n",
      "Model is 2 MB\n"
     ]
    }
   ],
   "source": [
    "## save models and log\n",
    "\n",
    "# this is where you pay attention to where you mapped the Docker dir to your local dir at run\n",
    "save_dir = os.path.join(os.getcwd(), 'trained_models')\n",
    "\n",
    "if not os.path.isdir(save_dir): # make dir if it doesn't exist\n",
    "    os.makedirs(save_dir)    \n",
    "    print(save_dir, 'doesn\\'t exist, creating it')\n",
    "\n",
    "print('Saving...') # do this because saving the model takes 5+ seconds sometimes\n",
    "\n",
    "\n",
    "# name the files\n",
    "last_name =  source + '_' + runDate + '_trainedmodel_last.h5'\n",
    "summary_name = source + '_' + runDate + '_modelsummary.txt'\n",
    "best_name = source + '_' + runDate + '_trainedmodel_best.h5'\n",
    "\n",
    "\n",
    "# get the best model\n",
    "saved_model = load_model('trained_models/best_model.h5')\n",
    "\n",
    "# save best model\n",
    "model_path = os.path.join(save_dir, best_name)\n",
    "saved_model.save(model_path)\n",
    "\n",
    "# get the last model\n",
    "last_model = model\n",
    "\n",
    "# save last model\n",
    "model_path = os.path.join(save_dir, last_name)\n",
    "last_model.save(model_path)\n",
    "\n",
    "# save summary\n",
    "with open(os.path.join(save_dir, summary_name),'w') as fh:\n",
    "    # Pass the file handle in as a lambda function to make it callable\n",
    "    model.summary(print_fn=lambda x: fh.write(x + '\\n'))\n",
    "\n",
    "\n",
    "print('Saved last model at %s ' % os.path.join(save_dir, last_name)) \n",
    "print('Saved best model at %s ' % os.path.join(save_dir, best_name)) \n",
    "print('Saved summary at %s' % os.path.join(save_dir, summary_name))   \n",
    "\n",
    "size = os.path.getsize(model_path) # note how big the model is because they're often huge\n",
    "print('Model is',round(size/1e+6),'MB')"
   ]
  },
  {
   "cell_type": "code",
   "execution_count": 8,
   "metadata": {
    "scrolled": true
   },
   "outputs": [
    {
     "data": {
      "image/png": "[encoded data removed]",
      "text/plain": [
       "<Figure size 432x288 with 1 Axes>"
      ]
     },
     "metadata": {
      "needs_background": "light"
     },
     "output_type": "display_data"
    },
    {
     "name": "stdout",
     "output_type": "stream",
     "text": [
      "Min: 0.8064774066152173\n"
     ]
    }
   ],
   "source": [
    "## plot training information\n",
    "# accuracy\n",
    "#plt.plot(history.history['accuracy']) # kx or similar Matlab commands for plotting\n",
    "#plt.plot(history.history['val_accuracy'])\n",
    "#plt.title('model accuracy')\n",
    "#plt.ylabel('accuracy')\n",
    "#plt.xlabel('epoch')\n",
    "#plt.legend(['train', 'test'], loc='lower right')\n",
    "#plt.show()\n",
    "\n",
    "# loss\n",
    "loss_min = np.min(history.history['loss'])\n",
    "\n",
    "plt.plot(history.history['loss'])\n",
    "#plt.scatter(loss_min, list(range(1, 200)), 'kx')\n",
    "plt.title('model loss')\n",
    "plt.ylabel('loss')\n",
    "plt.xlabel('epoch')\n",
    "plt.legend(['train', 'test'], loc='upper right')\n",
    "plt.savefig(source + '_' + runDate + '_loss.png')\n",
    "\n",
    "\n",
    "plt.show()\n",
    "\n",
    "print('Min:', str(loss_min))"
   ]
  },
  {
   "cell_type": "code",
   "execution_count": 33,
   "metadata": {
    "scrolled": true
   },
   "outputs": [
    {
     "name": "stdout",
     "output_type": "stream",
     "text": [
      "Loaded /tf/notebooks/trained_models/last_model.h5\n"
     ]
    }
   ],
   "source": [
    "## load a model for testing\n",
    "\n",
    "model_path = os.path.join(save_dir, 'last_model.h5') # external file\n",
    "#model_path = os.path.join(save_dir, last_name) # last\n",
    "#model_path = os.path.join(save_dir, best_name) # best\n",
    "\n",
    "model = load_model(model_path)\n",
    "\n",
    "print('Loaded', model_path)\n",
    "\n",
    "#optimizer = RMSprop(learning_rate=0.01)\n",
    "#model.compile(loss='categorical_crossentropy', optimizer=optimizer) # metrics=['accuracy']"
   ]
  },
  {
   "cell_type": "code",
   "execution_count": 34,
   "metadata": {
    "scrolled": false
   },
   "outputs": [
    {
     "name": "stdout",
     "output_type": "stream",
     "text": [
      "*** seed: < aning in them, after all. \"--saidi coul >\n",
      "\n",
      " aning in them, after all. \"--saidi could have casted outsing to see the right the gryphon; and the king was too executing in the cards.'\n",
      "\n",
      "'what made out that\n",
      "in that\n",
      "quite time,' said the cat. 'i don't be behand to sun--ono theme, and glad as she was get the white rabbit's hand of feet of meanver sight the time they would get to the ligst to her: it was quite forgotten in the\n",
      "crown in the time\n",
      "sort!'\n",
      "\n",
      "'the first witness changed it with\n"
     ]
    }
   ],
   "source": [
    "## set for the final output\n",
    "start_index = random.randint(0, len(text) - maxlen - 1)\n",
    "sentence = text[start_index: start_index + maxlen]\n",
    "randomizeOut = False\n",
    "temperature = 0.5 # 0.5? depends on training length\n",
    "maxChars = 400 # 400 is same as above\n",
    "\n",
    "if randomizeOut:\n",
    "    generated = ''\n",
    "    sentence = text[start_index: start_index + maxlen]\n",
    "    generated += sentence\n",
    "\n",
    "seed = sentence.replace('\\n','')\n",
    "seed = seed.replace('\\t','')\n",
    "print('*** seed: <', seed ,'>')\n",
    "#sys.stdout.write(generated)\n",
    "\n",
    "print('\\n',seed, end = '')\n",
    "\n",
    "for i in range(maxChars):\n",
    "    x_pred = np.zeros((1, maxlen, len(chars)))\n",
    "    for t, char in enumerate(sentence):\n",
    "        x_pred[0, t, char_indices[char]] = 1.\n",
    "\n",
    "    preds = model.predict(x_pred, verbose=0)[0]\n",
    "    next_index = sample(preds, temperature)\n",
    "    next_char = indices_char[next_index]\n",
    "\n",
    "    sentence = sentence[1:] + next_char\n",
    "\n",
    "    sys.stdout.write(next_char)\n",
    "    sys.stdout.flush()\n",
    "print()"
   ]
  },
  {
   "cell_type": "code",
   "execution_count": null,
   "metadata": {},
   "outputs": [],
   "source": []
  },
  {
   "cell_type": "code",
   "execution_count": null,
   "metadata": {},
   "outputs": [],
   "source": []
  }
 ],
 "metadata": {
  "kernelspec": {
   "display_name": "Python 3",
   "language": "python",
   "name": "python3"
  },
  "language_info": {
   "codemirror_mode": {
    "name": "ipython",
    "version": 3
   },
   "file_extension": ".py",
   "mimetype": "text/x-python",
   "name": "python",
   "nbconvert_exporter": "python",
   "pygments_lexer": "ipython3",
   "version": "3.6.9"
  }
 },
 "nbformat": 4,
 "nbformat_minor": 2
}
