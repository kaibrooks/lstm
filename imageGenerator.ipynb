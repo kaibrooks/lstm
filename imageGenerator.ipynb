{
 "cells": [
  {
   "cell_type": "code",
   "execution_count": 1,
   "metadata": {},
   "outputs": [],
   "source": [
    "# github.com/kaibrooks\n",
    "\n",
    "# this script makes a bunch of augmented images to train on and puts them in the training folder\n",
    "# you should only need to run this once, or if you want new/different pictures to train with\n",
    "\n",
    "# images should be sorted by class in /raw/\n",
    "# eg, /raw/class1/, raw/class2/"
   ]
  },
  {
   "cell_type": "code",
   "execution_count": 2,
   "metadata": {},
   "outputs": [
    {
     "name": "stdout",
     "output_type": "stream",
     "text": [
      "TensorFlow version 2.0.0\n",
      "Numpy version 1.17.4\n"
     ]
    }
   ],
   "source": [
    "import tensorflow as tf\n",
    "from tensorflow.keras.preprocessing.image import ImageDataGenerator\n",
    "from tensorflow.keras.preprocessing.image import img_to_array\n",
    "from tensorflow.keras.preprocessing.image import load_img\n",
    "from tensorflow.keras.preprocessing.image import save_img\n",
    "import os, shutil\n",
    "import numpy as np\n",
    "from numpy import expand_dims\n",
    "\n",
    "print('TensorFlow version', tf.__version__)\n",
    "print('Numpy version', np.__version__) "
   ]
  },
  {
   "cell_type": "code",
   "execution_count": 3,
   "metadata": {},
   "outputs": [],
   "source": [
    "## settings\n",
    "batch_size = 3 # augmentations per image\n",
    "\n",
    "# directories\n",
    "root_dir = 'data/raw/'\n",
    "save_dir = 'data/train/'\n",
    "imsize = 64\n",
    "\n",
    "# vars not to touch\n",
    "perms = 0 # 0"
   ]
  },
  {
   "cell_type": "code",
   "execution_count": 4,
   "metadata": {},
   "outputs": [
    {
     "name": "stdout",
     "output_type": "stream",
     "text": [
      "Deleted files in data/train/\n"
     ]
    }
   ],
   "source": [
    "## wipe output folder for new run\n",
    "for root, subfolders, files in os.walk(save_dir):\n",
    "    for folder in subfolders:\n",
    "        shutil.rmtree(os.path.join(save_dir, folder))\n",
    "print('Deleted files in', save_dir)"
   ]
  },
  {
   "cell_type": "code",
   "execution_count": 5,
   "metadata": {},
   "outputs": [
    {
     "name": "stdout",
     "output_type": "stream",
     "text": [
      "Ready to run\n"
     ]
    }
   ],
   "source": [
    "## augmentation layer\n",
    "datagen = ImageDataGenerator(\n",
    "    featurewise_center=False,  # set input mean to 0 over the dataset\n",
    "    samplewise_center=False,  # set each sample mean to 0\n",
    "    featurewise_std_normalization=False,  # divide inputs by std of the dataset\n",
    "    samplewise_std_normalization=False,  # divide each input by its std\n",
    "    zca_whitening=False,  # apply ZCA whitening\n",
    "    zca_epsilon=1e-06,  # epsilon for ZCA whitening\n",
    "    rotation_range=40,  # randomly rotate images in the range (degrees, 0 to 180)\n",
    "    width_shift_range=0.2, # randomly shift images horizontally (fraction of total width)\n",
    "    height_shift_range=0.2, # randomly shift images vertically (fraction of total height)\n",
    "    shear_range=0.2,  # set range for random shear\n",
    "    zoom_range=0.2,  # set range for random zoom\n",
    "    channel_shift_range=40.0,  # set range for random channel shifts\n",
    "    fill_mode='nearest', # set mode for filling points outside the input boundaries\n",
    "    cval=0.,  # value used for fill_mode = \"constant\"\n",
    "    horizontal_flip=True,  # randomly flip images\n",
    "    vertical_flip=False,  # randomly flip images\n",
    "    rescale=None, # set rescaling factor (applied before any other transformation)\n",
    "    preprocessing_function=None, # set function that will be applied on each input\n",
    "    data_format=None, #image data format, either \"channels_first\" or \"channels_last\"\n",
    "    validation_split=0.0) # fraction of images reserved for validation (strictly between 0 and 1)\n",
    "    \n",
    "print('Ready to run')"
   ]
  },
  {
   "cell_type": "code",
   "execution_count": 6,
   "metadata": {},
   "outputs": [
    {
     "name": "stdout",
     "output_type": "stream",
     "text": [
      "Starting image generation...\n",
      "Done: Created 894 images\n"
     ]
    }
   ],
   "source": [
    "print('Starting image generation...')\n",
    "#creates train folder if it doesn't exist\n",
    "if not os.path.exists(save_dir):\n",
    "    os.mkdir(save_dir)\n",
    "\n",
    "for root, subfolders, files in os.walk(root_dir):\n",
    "    for folder in subfolders:\n",
    "        path = os.path.join(root_dir, folder)\n",
    "        for subroot, subfolders, files in os.walk(path):\n",
    "            for file in files:  \n",
    "                image = load_img(os.path.join(path, file))\n",
    "                image_array = img_to_array(image)\n",
    "                samples = expand_dims(image_array, 0)\n",
    "                gen_data = datagen.flow(samples, batch_size=batch_size)\n",
    "                for i in range(batch_size):\n",
    "                    # generate batch of images\n",
    "                    batch = gen_data.next()\n",
    "                    perms = perms+1\n",
    "                    split_file_name = os.path.splitext(file)\n",
    "                    aug_file_name = split_file_name[0]+'_'+str(i)+split_file_name[1]\n",
    "                    #creates train/{pink|cheese|blue} folders if they don't exist\n",
    "                    if not os.path.exists(os.path.join(save_dir, folder)):\n",
    "                        os.mkdir(os.path.join(save_dir, folder))\n",
    "                    save_img(os.path.join(save_dir, folder, aug_file_name), batch[0])\n",
    "print('Done: Created',perms,'images')                    "
   ]
  },
  {
   "cell_type": "code",
   "execution_count": null,
   "metadata": {},
   "outputs": [],
   "source": []
  }
 ],
 "metadata": {
  "kernelspec": {
   "display_name": "Python 3",
   "language": "python",
   "name": "python3"
  },
  "language_info": {
   "codemirror_mode": {
    "name": "ipython",
    "version": 3
   },
   "file_extension": ".py",
   "mimetype": "text/x-python",
   "name": "python",
   "nbconvert_exporter": "python",
   "pygments_lexer": "ipython3",
   "version": "3.6.8"
  }
 },
 "nbformat": 4,
 "nbformat_minor": 2
}
