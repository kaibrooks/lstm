{
 "cells": [
  {
   "cell_type": "code",
   "execution_count": 1,
   "metadata": {},
   "outputs": [],
   "source": [
    "# nobody knows anything\n",
    "#                  -Kai\n",
    "#\n",
    "# github.com/kaibrooks"
   ]
  },
  {
   "cell_type": "code",
   "execution_count": 37,
   "metadata": {},
   "outputs": [],
   "source": [
    "from __future__ import print_function\n",
    "from keras.callbacks import LambdaCallback\n",
    "from keras.models import Sequential\n",
    "from keras.layers import Dense\n",
    "from keras.layers import LSTM\n",
    "from keras.optimizers import RMSprop\n",
    "from keras.utils.data_utils import get_file\n",
    "import numpy as np\n",
    "import random\n",
    "import sys\n",
    "import io\n",
    "import os\n",
    "import matplotlib.pyplot as plt # fancy plots\n",
    "from datetime import datetime # so we know how much time we've wasted"
   ]
  },
  {
   "cell_type": "code",
   "execution_count": 21,
   "metadata": {},
   "outputs": [],
   "source": [
    "# doin thangs\n",
    "epochs=10 #60\n",
    "epochOutput = False\n",
    "diversity = [0.2, 0.5, 1.0, 1.2]"
   ]
  },
  {
   "cell_type": "code",
   "execution_count": 22,
   "metadata": {},
   "outputs": [
    {
     "name": "stdout",
     "output_type": "stream",
     "text": [
      "corpus length: 30504\n"
     ]
    }
   ],
   "source": [
    "## get text file\n",
    "\n",
    "#path = get_file( # use this for http request\n",
    "#    'afile.txt',\n",
    "#    origin='http://omega.lul/afile.txt')\n",
    "\n",
    "path = 'data/drseuss.txt'\n",
    "\n",
    "with open(path, encoding='utf-8', errors='ignore') as f: # errors=ignore strips non utf-8 chars\n",
    "    text = f.read().lower()\n",
    "print('corpus length:', len(text))"
   ]
  },
  {
   "cell_type": "code",
   "execution_count": 23,
   "metadata": {},
   "outputs": [
    {
     "name": "stdout",
     "output_type": "stream",
     "text": [
      "total chars: 39\n",
      "nb sequences: 10155\n",
      "Vectorizing...\n",
      "Done\n"
     ]
    }
   ],
   "source": [
    "chars = sorted(list(set(text)))\n",
    "print('total chars:', len(chars))\n",
    "char_indices = dict((c, i) for i, c in enumerate(chars))\n",
    "indices_char = dict((i, c) for i, c in enumerate(chars))\n",
    "\n",
    "# cut the text in semi-redundant sequences of maxlen characters\n",
    "maxlen = 40\n",
    "step = 3\n",
    "sentences = []\n",
    "next_chars = []\n",
    "for i in range(0, len(text) - maxlen, step):\n",
    "    sentences.append(text[i: i + maxlen])\n",
    "    next_chars.append(text[i + maxlen])\n",
    "print('nb sequences:', len(sentences))\n",
    "\n",
    "print('Vectorizing...')\n",
    "x = np.zeros((len(sentences), maxlen, len(chars)), dtype=np.bool)\n",
    "y = np.zeros((len(sentences), len(chars)), dtype=np.bool)\n",
    "for i, sentence in enumerate(sentences):\n",
    "    for t, char in enumerate(sentence):\n",
    "        x[i, t, char_indices[char]] = 1\n",
    "    y[i, char_indices[next_chars[i]]] = 1\n",
    "print('Done')"
   ]
  },
  {
   "cell_type": "code",
   "execution_count": 24,
   "metadata": {},
   "outputs": [
    {
     "name": "stdout",
     "output_type": "stream",
     "text": [
      "Building model...\n",
      "Done\n"
     ]
    }
   ],
   "source": [
    "# model\n",
    "print('Building model...')\n",
    "model = Sequential()\n",
    "model.add(LSTM(128, input_shape=(maxlen, len(chars))))\n",
    "model.add(Dense(len(chars), activation='softmax'))\n",
    "optimizer = RMSprop(learning_rate=0.01)\n",
    "model.compile(loss='categorical_crossentropy', optimizer=optimizer)\n",
    "print('Done')"
   ]
  },
  {
   "cell_type": "code",
   "execution_count": 25,
   "metadata": {
    "scrolled": true
   },
   "outputs": [
    {
     "name": "stdout",
     "output_type": "stream",
     "text": [
      "Starting training at 06-Dec-2019 23:23:21\n",
      "Epoch 1/10\n",
      "10155/10155 [==============================] - 8s 799us/step - loss: 2.7347\n",
      "Epoch 2/10\n",
      "10155/10155 [==============================] - 8s 741us/step - loss: 2.1127\n",
      "Epoch 3/10\n",
      "10155/10155 [==============================] - 7s 738us/step - loss: 1.8375\n",
      "Epoch 4/10\n",
      "10155/10155 [==============================] - 8s 787us/step - loss: 1.6272\n",
      "Epoch 5/10\n",
      "10155/10155 [==============================] - 9s 847us/step - loss: 1.4476\n",
      "Epoch 6/10\n",
      "10155/10155 [==============================] - 8s 796us/step - loss: 1.2811\n",
      "Epoch 7/10\n",
      "10155/10155 [==============================] - 8s 807us/step - loss: 1.1265\n",
      "Epoch 8/10\n",
      "10155/10155 [==============================] - 8s 771us/step - loss: 0.9763\n",
      "Epoch 9/10\n",
      "10155/10155 [==============================] - 8s 764us/step - loss: 0.8496\n",
      "Epoch 10/10\n",
      "10155/10155 [==============================] - 8s 752us/step - loss: 0.7480\n",
      "Finished training at 06-Dec-2019 23:24:41\n",
      "Model summary:\n",
      "Model: \"sequential_2\"\n",
      "_________________________________________________________________\n",
      "Layer (type)                 Output Shape              Param #   \n",
      "=================================================================\n",
      "lstm_2 (LSTM)                (None, 128)               86016     \n",
      "_________________________________________________________________\n",
      "dense_2 (Dense)              (None, 39)                5031      \n",
      "=================================================================\n",
      "Total params: 91,047\n",
      "Trainable params: 91,047\n",
      "Non-trainable params: 0\n",
      "_________________________________________________________________\n"
     ]
    }
   ],
   "source": [
    "# train me\n",
    "\n",
    "now = datetime.now()\n",
    "print(\"Starting training at\", now.strftime(\"%d-%b-%Y %H:%M:%S\")) # lets see how long this takes\n",
    "\n",
    "def sample(preds, temperature=1.0):\n",
    "    # helper function to sample an index from a probability array\n",
    "    preds = np.asarray(preds).astype('float64')\n",
    "    preds = np.log(preds) / temperature\n",
    "    exp_preds = np.exp(preds)\n",
    "    preds = exp_preds / np.sum(exp_preds)\n",
    "    probas = np.random.multinomial(1, preds, 1)\n",
    "    return np.argmax(probas)\n",
    "\n",
    "def on_epoch_end(epoch, _):\n",
    "    if epochOutput:\n",
    "        # print text at each epoch\n",
    "        print()\n",
    "        print('**************************** Generating text after Epoch: %d ****************************' % epoch)\n",
    "\n",
    "        start_index = random.randint(0, len(text) - maxlen - 1)\n",
    "        for diversity in [diversity]:\n",
    "            print('--------------- diversity: ', diversity, '---------------')\n",
    "\n",
    "            generated = ''\n",
    "            sentence = text[start_index: start_index + maxlen]\n",
    "            generated += sentence\n",
    "            print('--------------- seed: <', sentence,'>')\n",
    "            sys.stdout.write(generated)\n",
    "\n",
    "            for i in range(400):\n",
    "                x_pred = np.zeros((1, maxlen, len(chars)))\n",
    "                for t, char in enumerate(sentence):\n",
    "                    x_pred[0, t, char_indices[char]] = 1.\n",
    "\n",
    "                preds = model.predict(x_pred, verbose=0)[0]\n",
    "                next_index = sample(preds, diversity)\n",
    "                next_char = indices_char[next_index]\n",
    "\n",
    "                sentence = sentence[1:] + next_char\n",
    "                sys.stdout.write(next_char)\n",
    "                sys.stdout.flush()\n",
    "            print()\n",
    "\n",
    "print_callback = LambdaCallback(on_epoch_end=on_epoch_end)\n",
    "\n",
    "history = model.fit(x, y,\n",
    "          batch_size=128,\n",
    "          epochs=epochs,\n",
    "          callbacks=[print_callback])\n",
    "\n",
    "then = datetime.now()\n",
    "print(\"Finished training at\", then.strftime(\"%d-%b-%Y %H:%M:%S\")) # lets see how long this took\n",
    "\n",
    "print('Model summary:')\n",
    "model.summary()"
   ]
  },
  {
   "cell_type": "code",
   "execution_count": 41,
   "metadata": {},
   "outputs": [
    {
     "name": "stdout",
     "output_type": "stream",
     "text": [
      "Saving...\n",
      "Saved trained model at /tf/notebooks/trained_models/2019-12-06_23-23-21_trainedmodel.h5 \n",
      "Saved training summary at /tf/notebooks/trained_models/2019-12-06_23-23-21_modelsummary.txt\n",
      "Model is 1 MB\n"
     ]
    }
   ],
   "source": [
    "## save model log\n",
    "# this is where you pay attention to where you mapped the Docker dir to your local dir at run\n",
    "\n",
    "save_dir = os.path.join(os.getcwd(), 'trained_models')\n",
    "\n",
    "\n",
    "if not os.path.isdir(save_dir): # make dir if it doesn't exist\n",
    "    os.makedirs(save_dir)    \n",
    "    print(save_dir, 'doesn\\'t exist, creating it')\n",
    "\n",
    "print('Saving...') # do this because saving the model takes 5+ seconds sometimes\n",
    "\n",
    "# \n",
    "model_name = now.strftime(\"%Y-%m-%d_%H-%M-%S\") + '_trainedmodel.h5'\n",
    "summary_name = now.strftime(\"%Y-%m-%d_%H-%M-%S\") + '_modelsummary.txt'\n",
    "\n",
    "# save summary\n",
    "with open(os.path.join(save_dir, summary_name),'w') as fh:\n",
    "    # Pass the file handle in as a lambda function to make it callable\n",
    "    model.summary(print_fn=lambda x: fh.write(x + '\\n'))\n",
    "\n",
    "# save model\n",
    "model_path = os.path.join(save_dir, model_name)\n",
    "model.save(model_path)\n",
    "\n",
    "#model_path = os.path.join(save_dir, summary_name)\n",
    "#print(model_path)\n",
    "#model.save(model_path)\n",
    "  \n",
    "print('Saved trained model at %s ' % os.path.join(save_dir, model_name)) \n",
    "print('Saved training summary at %s' % os.path.join(save_dir, summary_name))   \n",
    "\n",
    "size = os.path.getsize(model_path) # note how big the model is because they're often huge\n",
    "print('Model is',round(size/1e+6),'MB')"
   ]
  },
  {
   "cell_type": "code",
   "execution_count": 26,
   "metadata": {},
   "outputs": [
    {
     "data": {
      "image/png": "[encoded data removed]",
      "text/plain": [
       "<Figure size 432x288 with 1 Axes>"
      ]
     },
     "metadata": {
      "needs_background": "light"
     },
     "output_type": "display_data"
    }
   ],
   "source": [
    "## plot accuracy\n",
    "#plt.plot(history.history['accuracy']) # kx or similar Matlab commands for plotting\n",
    "#plt.plot(history.history['val_accuracy'])\n",
    "#plt.title('model accuracy')\n",
    "#plt.ylabel('accuracy')\n",
    "#plt.xlabel('epoch')\n",
    "#plt.legend(['train', 'test'], loc='lower right')\n",
    "#plt.show()\n",
    "\n",
    "# plot history\n",
    "plt.plot(history.history['loss'])\n",
    "#plt.plot(history.history['val_loss'])\n",
    "plt.title('model loss')\n",
    "plt.ylabel('loss')\n",
    "plt.xlabel('epoch')\n",
    "plt.legend(['train', 'test'], loc='upper right')\n",
    "plt.show()"
   ]
  },
  {
   "cell_type": "code",
   "execution_count": 33,
   "metadata": {
    "scrolled": true
   },
   "outputs": [
    {
     "name": "stdout",
     "output_type": "stream",
     "text": [
      "*** seed: < ted christmas! the whole christmas seaso >\n",
      " to call.\n",
      "oh, should it could sould dow.\n",
      "for fear them in a bood for fishere in the hop,\n",
      "sould sam-i-am\n",
      "\n",
      "on a woll hall to poo stown the hat.\n",
      "\"i do not like them in a box.\n",
      "and i cane to a call this liet as me coll.\n",
      "her, house,\n",
      "he ship, ploout to plooks our fith a finnt and slicks of some hame icccclicks.\n",
      "bup i do not like them,\n",
      "said the cat!\n",
      "\"not like this wand the can!\n",
      "that is not in a hooks our \n"
     ]
    }
   ],
   "source": [
    "## set for the final output\n",
    "start_index = random.randint(0, len(text) - maxlen - 1)\n",
    "sentence = text[start_index: start_index + maxlen]\n",
    "randomizeOut = True\n",
    "diversity = 0.5 # 0.5? depends on training length\n",
    "maxChars = 400 # 400 is same as above\n",
    "\n",
    "if randomizeOut:\n",
    "    generated = ''\n",
    "    sentence = text[start_index: start_index + maxlen]\n",
    "    generated += sentence\n",
    "\n",
    "seed = sentence.replace('\\n','')\n",
    "seed = seed.replace('\\t','')\n",
    "print('*** seed: <', seed ,'>')\n",
    "#sys.stdout.write(generated)\n",
    "\n",
    "\n",
    "for i in range(maxChars):\n",
    "    x_pred = np.zeros((1, maxlen, len(chars)))\n",
    "    for t, char in enumerate(sentence):\n",
    "        x_pred[0, t, char_indices[char]] = 1.\n",
    "\n",
    "    preds = model.predict(x_pred, verbose=0)[0]\n",
    "    next_index = sample(preds, diversity)\n",
    "    next_char = indices_char[next_index]\n",
    "\n",
    "    sentence = sentence[1:] + next_char\n",
    "\n",
    "    sys.stdout.write(next_char)\n",
    "    sys.stdout.flush()\n",
    "print()"
   ]
  },
  {
   "cell_type": "code",
   "execution_count": 34,
   "metadata": {},
   "outputs": [
    {
     "name": "stdout",
     "output_type": "stream",
     "text": [
      "Model: \"sequential_2\"\n",
      "_________________________________________________________________\n",
      "Layer (type)                 Output Shape              Param #   \n",
      "=================================================================\n",
      "lstm_2 (LSTM)                (None, 128)               86016     \n",
      "_________________________________________________________________\n",
      "dense_2 (Dense)              (None, 39)                5031      \n",
      "=================================================================\n",
      "Total params: 91,047\n",
      "Trainable params: 91,047\n",
      "Non-trainable params: 0\n",
      "_________________________________________________________________\n"
     ]
    }
   ],
   "source": [
    "model.summary()"
   ]
  },
  {
   "cell_type": "code",
   "execution_count": null,
   "metadata": {},
   "outputs": [],
   "source": []
  }
 ],
 "metadata": {
  "kernelspec": {
   "display_name": "Python 3",
   "language": "python",
   "name": "python3"
  },
  "language_info": {
   "codemirror_mode": {
    "name": "ipython",
    "version": 3
   },
   "file_extension": ".py",
   "mimetype": "text/x-python",
   "name": "python",
   "nbconvert_exporter": "python",
   "pygments_lexer": "ipython3",
   "version": "3.6.8"
  }
 },
 "nbformat": 4,
 "nbformat_minor": 2
}
