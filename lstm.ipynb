{
 "cells": [
  {
   "cell_type": "code",
   "execution_count": 1,
   "metadata": {},
   "outputs": [],
   "source": [
    "# nobody knows anything\n",
    "#                  -Kai\n",
    "#\n",
    "# github.com/kaibrooks"
   ]
  },
  {
   "cell_type": "code",
   "execution_count": 2,
   "metadata": {},
   "outputs": [
    {
     "name": "stderr",
     "output_type": "stream",
     "text": [
      "Using TensorFlow backend.\n"
     ]
    },
    {
     "name": "stdout",
     "output_type": "stream",
     "text": [
      "TensorFlow version 2.0.0\n",
      "Keras version 2.2.4-tf\n",
      "Numpy version 1.17.4\n"
     ]
    }
   ],
   "source": [
    "from __future__ import print_function\n",
    "from keras.callbacks import LambdaCallback\n",
    "from keras.models import Sequential\n",
    "from keras.layers import Dense\n",
    "from keras.layers import LSTM\n",
    "from keras.optimizers import RMSprop\n",
    "from keras.utils.data_utils import get_file\n",
    "import tensorflow as tf\n",
    "from tensorflow import keras as keras\n",
    "import numpy as np\n",
    "import random\n",
    "import sys\n",
    "import io\n",
    "import os\n",
    "import matplotlib.pyplot as plt # fancy plots\n",
    "from datetime import datetime # so we know how much time we've wasted\n",
    "\n",
    "print('TensorFlow version', tf.__version__)\n",
    "print('Keras version', keras.__version__)\n",
    "#print('SciPy version', scipy.__version__)\n",
    "print('Numpy version', np.__version__) \n",
    "#print('Pillow version', PIL.__version__) "
   ]
  },
  {
   "cell_type": "code",
   "execution_count": 16,
   "metadata": {},
   "outputs": [
    {
     "data": {
      "text/plain": [
       "{'divide': 'warn', 'over': 'warn', 'under': 'ignore', 'invalid': 'warn'}"
      ]
     },
     "execution_count": 16,
     "metadata": {},
     "output_type": "execute_result"
    }
   ],
   "source": [
    "# doin thangs\n",
    "epochs=20 #60\n",
    "epochOutput = False\n",
    "diversity = [0.2, 0.5, 1.0, 1.2]\n",
    "\n",
    "\n",
    "np.seterr(divide='ignore') # ignore divide by zero warnings"
   ]
  },
  {
   "cell_type": "code",
   "execution_count": 6,
   "metadata": {},
   "outputs": [
    {
     "name": "stdout",
     "output_type": "stream",
     "text": [
      "corpus length: 969555\n"
     ]
    }
   ],
   "source": [
    "## get text file\n",
    "\n",
    "#path = get_file( # use this for http request\n",
    "#    'afile.txt',\n",
    "#    origin='http://omega.lul/afile.txt')\n",
    "\n",
    "path = 'data/lotr1.txt'\n",
    "\n",
    "with open(path, encoding='utf-8', errors='ignore') as f: # errors=ignore strips non utf-8 chars\n",
    "    text = f.read().lower()\n",
    "print('corpus length:', len(text))"
   ]
  },
  {
   "cell_type": "code",
   "execution_count": 7,
   "metadata": {},
   "outputs": [
    {
     "name": "stdout",
     "output_type": "stream",
     "text": [
      "total chars: 53\n",
      "nb sequences: 323172\n",
      "Vectorizing...\n",
      "Done\n"
     ]
    }
   ],
   "source": [
    "chars = sorted(list(set(text)))\n",
    "print('total chars:', len(chars))\n",
    "char_indices = dict((c, i) for i, c in enumerate(chars))\n",
    "indices_char = dict((i, c) for i, c in enumerate(chars))\n",
    "\n",
    "# cut the text in semi-redundant sequences of maxlen characters\n",
    "maxlen = 40\n",
    "step = 3\n",
    "sentences = []\n",
    "next_chars = []\n",
    "for i in range(0, len(text) - maxlen, step):\n",
    "    sentences.append(text[i: i + maxlen])\n",
    "    next_chars.append(text[i + maxlen])\n",
    "print('nb sequences:', len(sentences))\n",
    "\n",
    "print('Vectorizing...')\n",
    "x = np.zeros((len(sentences), maxlen, len(chars)), dtype=np.bool)\n",
    "y = np.zeros((len(sentences), len(chars)), dtype=np.bool)\n",
    "for i, sentence in enumerate(sentences):\n",
    "    for t, char in enumerate(sentence):\n",
    "        x[i, t, char_indices[char]] = 1\n",
    "    y[i, char_indices[next_chars[i]]] = 1\n",
    "print('Done')"
   ]
  },
  {
   "cell_type": "code",
   "execution_count": 8,
   "metadata": {},
   "outputs": [
    {
     "name": "stdout",
     "output_type": "stream",
     "text": [
      "Building model...\n",
      "Done\n"
     ]
    }
   ],
   "source": [
    "# model\n",
    "print('Building model...')\n",
    "model = Sequential()\n",
    "model.add(LSTM(128, input_shape=(maxlen, len(chars))))\n",
    "model.add(Dense(len(chars), activation='softmax'))\n",
    "optimizer = RMSprop(learning_rate=0.01)\n",
    "model.compile(loss='categorical_crossentropy', optimizer=optimizer)\n",
    "print('Done')"
   ]
  },
  {
   "cell_type": "code",
   "execution_count": 9,
   "metadata": {
    "scrolled": false
   },
   "outputs": [
    {
     "name": "stdout",
     "output_type": "stream",
     "text": [
      "Starting training at 07-Dec-2019 01:29:39 UTC\n",
      "Epoch 1/20\n",
      "323172/323172 [==============================] - 245s 758us/step - loss: 1.7065\n",
      "Epoch 2/20\n",
      "323172/323172 [==============================] - 243s 753us/step - loss: 1.4360\n",
      "Epoch 3/20\n",
      "323172/323172 [==============================] - 245s 759us/step - loss: 1.3776\n",
      "Epoch 4/20\n",
      "323172/323172 [==============================] - 245s 758us/step - loss: 1.3437\n",
      "Epoch 5/20\n",
      "323172/323172 [==============================] - 2835s 9ms/step - loss: 1.3201\n",
      "Epoch 6/20\n",
      "323172/323172 [==============================] - 4209s 13ms/step - loss: 1.3088\n",
      "Epoch 7/20\n",
      "323172/323172 [==============================] - 240s 743us/step - loss: 1.2952\n",
      "Epoch 8/20\n",
      "323172/323172 [==============================] - 240s 744us/step - loss: 1.2860\n",
      "Epoch 9/20\n",
      "323172/323172 [==============================] - 244s 754us/step - loss: 1.2784\n",
      "Epoch 10/20\n",
      "323172/323172 [==============================] - 252s 781us/step - loss: 1.2706\n",
      "Epoch 11/20\n",
      "323172/323172 [==============================] - 281s 868us/step - loss: 1.2644\n",
      "Epoch 12/20\n",
      "323172/323172 [==============================] - 2156s 7ms/step - loss: 1.2599\n",
      "Epoch 13/20\n",
      "323172/323172 [==============================] - 254s 787us/step - loss: 1.2549\n",
      "Epoch 14/20\n",
      "323172/323172 [==============================] - 270s 836us/step - loss: 1.2497\n",
      "Epoch 15/20\n",
      "323172/323172 [==============================] - 252s 781us/step - loss: 1.2457\n",
      "Epoch 16/20\n",
      "323172/323172 [==============================] - 271s 838us/step - loss: 1.2431\n",
      "Epoch 17/20\n",
      "323172/323172 [==============================] - 258s 797us/step - loss: 1.2387\n",
      "Epoch 18/20\n",
      "323172/323172 [==============================] - 258s 799us/step - loss: 1.2364\n",
      "Epoch 19/20\n",
      "323172/323172 [==============================] - 259s 801us/step - loss: 1.2354\n",
      "Epoch 20/20\n",
      "323172/323172 [==============================] - 259s 800us/step - loss: 1.2326\n",
      "Finished training at 07-Dec-2019 05:14:57\n",
      "Model summary:\n",
      "Model: \"sequential_1\"\n",
      "_________________________________________________________________\n",
      "Layer (type)                 Output Shape              Param #   \n",
      "=================================================================\n",
      "lstm_1 (LSTM)                (None, 128)               93184     \n",
      "_________________________________________________________________\n",
      "dense_1 (Dense)              (None, 53)                6837      \n",
      "=================================================================\n",
      "Total params: 100,021\n",
      "Trainable params: 100,021\n",
      "Non-trainable params: 0\n",
      "_________________________________________________________________\n"
     ]
    }
   ],
   "source": [
    "# train me\n",
    "\n",
    "now = datetime.now()\n",
    "print(\"Starting training at\", now.strftime(\"%d-%b-%Y %H:%M:%S\"), 'UTC') # lets see how long this takes\n",
    "\n",
    "def sample(preds, temperature=1.0):\n",
    "    # helper function to sample an index from a probability array\n",
    "    preds = np.asarray(preds).astype('float64')\n",
    "    preds = np.log(preds) / temperature\n",
    "    exp_preds = np.exp(preds)\n",
    "    preds = exp_preds / np.sum(exp_preds)\n",
    "    probas = np.random.multinomial(1, preds, 1)\n",
    "    return np.argmax(probas)\n",
    "\n",
    "def on_epoch_end(epoch, _):\n",
    "    if epochOutput:\n",
    "        # print text at each epoch\n",
    "        print()\n",
    "        print('**************************** Generating text after Epoch: %d ****************************' % epoch)\n",
    "\n",
    "        start_index = random.randint(0, len(text) - maxlen - 1)\n",
    "        for diversity in [diversity]:\n",
    "            print('--------------- diversity: ', diversity, '---------------')\n",
    "\n",
    "            generated = ''\n",
    "            sentence = text[start_index: start_index + maxlen]\n",
    "            generated += sentence\n",
    "            print('--------------- seed: <', sentence,'>')\n",
    "            sys.stdout.write(generated)\n",
    "\n",
    "            for i in range(400):\n",
    "                x_pred = np.zeros((1, maxlen, len(chars)))\n",
    "                for t, char in enumerate(sentence):\n",
    "                    x_pred[0, t, char_indices[char]] = 1.\n",
    "\n",
    "                preds = model.predict(x_pred, verbose=0)[0]\n",
    "                next_index = sample(preds, diversity)\n",
    "                next_char = indices_char[next_index]\n",
    "\n",
    "                sentence = sentence[1:] + next_char\n",
    "                sys.stdout.write(next_char)\n",
    "                sys.stdout.flush()\n",
    "            print()\n",
    "\n",
    "print_callback = LambdaCallback(on_epoch_end=on_epoch_end)\n",
    "\n",
    "history = model.fit(x, y,\n",
    "          batch_size=128,\n",
    "          epochs=epochs,\n",
    "          callbacks=[print_callback])\n",
    "\n",
    "then = datetime.now()\n",
    "print(\"Finished training at\", then.strftime(\"%d-%b-%Y %H:%M:%S\")) # lets see how long this took\n",
    "\n",
    "print('Model summary:')\n",
    "model.summary()"
   ]
  },
  {
   "cell_type": "code",
   "execution_count": 10,
   "metadata": {},
   "outputs": [
    {
     "name": "stdout",
     "output_type": "stream",
     "text": [
      "Saving...\n",
      "Saved trained model at /tf/notebooks/trained_models/2019-12-07_01-29-39_trainedmodel.h5 \n",
      "Saved training summary at /tf/notebooks/trained_models/2019-12-07_01-29-39_modelsummary.txt\n",
      "Model is 1 MB\n"
     ]
    }
   ],
   "source": [
    "## save model log\n",
    "# this is where you pay attention to where you mapped the Docker dir to your local dir at run\n",
    "\n",
    "save_dir = os.path.join(os.getcwd(), 'trained_models')\n",
    "\n",
    "\n",
    "if not os.path.isdir(save_dir): # make dir if it doesn't exist\n",
    "    os.makedirs(save_dir)    \n",
    "    print(save_dir, 'doesn\\'t exist, creating it')\n",
    "\n",
    "print('Saving...') # do this because saving the model takes 5+ seconds sometimes\n",
    "\n",
    "# \n",
    "model_name = now.strftime(\"%Y-%m-%d_%H-%M-%S\") + '_trainedmodel.h5'\n",
    "summary_name = now.strftime(\"%Y-%m-%d_%H-%M-%S\") + '_modelsummary.txt'\n",
    "\n",
    "# save summary\n",
    "with open(os.path.join(save_dir, summary_name),'w') as fh:\n",
    "    # Pass the file handle in as a lambda function to make it callable\n",
    "    model.summary(print_fn=lambda x: fh.write(x + '\\n'))\n",
    "\n",
    "# save model\n",
    "model_path = os.path.join(save_dir, model_name)\n",
    "model.save(model_path)\n",
    "\n",
    "#model_path = os.path.join(save_dir, summary_name)\n",
    "#print(model_path)\n",
    "#model.save(model_path)\n",
    "  \n",
    "print('Saved trained model at %s ' % os.path.join(save_dir, model_name)) \n",
    "print('Saved training summary at %s' % os.path.join(save_dir, summary_name))   \n",
    "\n",
    "size = os.path.getsize(model_path) # note how big the model is because they're often huge\n",
    "print('Model is',round(size/1e+6),'MB')"
   ]
  },
  {
   "cell_type": "code",
   "execution_count": 11,
   "metadata": {},
   "outputs": [
    {
     "data": {
      "image/png": "[encoded data removed]",
      "text/plain": [
       "<Figure size 432x288 with 1 Axes>"
      ]
     },
     "metadata": {
      "needs_background": "light"
     },
     "output_type": "display_data"
    }
   ],
   "source": [
    "## plot accuracy\n",
    "#plt.plot(history.history['accuracy']) # kx or similar Matlab commands for plotting\n",
    "#plt.plot(history.history['val_accuracy'])\n",
    "#plt.title('model accuracy')\n",
    "#plt.ylabel('accuracy')\n",
    "#plt.xlabel('epoch')\n",
    "#plt.legend(['train', 'test'], loc='lower right')\n",
    "#plt.show()\n",
    "\n",
    "# plot history\n",
    "plt.plot(history.history['loss'])\n",
    "#plt.plot(history.history['val_loss'])\n",
    "plt.title('model loss')\n",
    "plt.ylabel('loss')\n",
    "plt.xlabel('epoch')\n",
    "plt.legend(['train', 'test'], loc='upper right')\n",
    "plt.show()"
   ]
  },
  {
   "cell_type": "code",
   "execution_count": 33,
   "metadata": {
    "scrolled": true
   },
   "outputs": [
    {
     "name": "stdout",
     "output_type": "stream",
     "text": [
      "*** seed: < c might not suddenly bring them to life  >\n",
      "\n",
      " c might not suddenly bring them to life to be and below the east many shout. and the night had seen will again with a leaves and the enemy. i must again to me: could want a made the words and strive as the sun had been many flowers, and far a shadow downs the shire was still and hunger and the things of the doors of the wind but the dark and fall like a white road that he came out of the world was some corrise of the trees. but it seemed to have inderiling a satt. the ring running through the ring they saw a great ring and spring to the shadow and slope and folk was a passage. there was a springs of the mountains and grew leaving began them a things of the shadows of his face of the man. 'you must be seen the wise that he had been trees the dark and the night of hills, and straight the enemy. every while they felt the roots of the shadow for the dark of his eyes reached the shadow of the road the land, and and the passage was live the hill was still seemed to him and looked and fell and hearing and seen and started in the wa\n"
     ]
    }
   ],
   "source": [
    "## set for the final output\n",
    "start_index = random.randint(0, len(text) - maxlen - 1)\n",
    "sentence = text[start_index: start_index + maxlen]\n",
    "randomizeOut = False\n",
    "diversity = 0.5 # 0.5? depends on training length\n",
    "maxChars = 1000 # 400 is same as above\n",
    "\n",
    "if randomizeOut:\n",
    "    generated = ''\n",
    "    sentence = text[start_index: start_index + maxlen]\n",
    "    generated += sentence\n",
    "\n",
    "seed = sentence.replace('\\n','')\n",
    "seed = seed.replace('\\t','')\n",
    "print('*** seed: <', seed ,'>')\n",
    "#sys.stdout.write(generated)\n",
    "\n",
    "print('\\n',seed, end = '')\n",
    "\n",
    "for i in range(maxChars):\n",
    "    x_pred = np.zeros((1, maxlen, len(chars)))\n",
    "    for t, char in enumerate(sentence):\n",
    "        x_pred[0, t, char_indices[char]] = 1.\n",
    "\n",
    "    preds = model.predict(x_pred, verbose=0)[0]\n",
    "    next_index = sample(preds, diversity)\n",
    "    next_char = indices_char[next_index]\n",
    "\n",
    "    sentence = sentence[1:] + next_char\n",
    "\n",
    "    sys.stdout.write(next_char)\n",
    "    sys.stdout.flush()\n",
    "print()"
   ]
  },
  {
   "cell_type": "code",
   "execution_count": null,
   "metadata": {},
   "outputs": [],
   "source": []
  }
 ],
 "metadata": {
  "kernelspec": {
   "display_name": "Python 3",
   "language": "python",
   "name": "python3"
  },
  "language_info": {
   "codemirror_mode": {
    "name": "ipython",
    "version": 3
   },
   "file_extension": ".py",
   "mimetype": "text/x-python",
   "name": "python",
   "nbconvert_exporter": "python",
   "pygments_lexer": "ipython3",
   "version": "3.6.8"
  }
 },
 "nbformat": 4,
 "nbformat_minor": 2
}
