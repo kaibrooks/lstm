{
 "cells": [
  {
   "cell_type": "code",
   "execution_count": 1,
   "metadata": {},
   "outputs": [],
   "source": [
    "# nobody knows anything\n",
    "#                  -Kai\n",
    "#\n",
    "# github.com/kaibrooks"
   ]
  },
  {
   "cell_type": "code",
   "execution_count": 2,
   "metadata": {},
   "outputs": [
    {
     "name": "stderr",
     "output_type": "stream",
     "text": [
      "Using TensorFlow backend.\n"
     ]
    },
    {
     "name": "stdout",
     "output_type": "stream",
     "text": [
      "TensorFlow version 2.0.0\n",
      "Keras version 2.2.4-tf\n",
      "Numpy version 1.17.4\n"
     ]
    }
   ],
   "source": [
    "from __future__ import print_function\n",
    "from keras.callbacks import LambdaCallback\n",
    "from keras.callbacks import EarlyStopping\n",
    "from keras.models import Sequential\n",
    "from keras.layers import Dense\n",
    "from keras.layers import LSTM\n",
    "from keras.optimizers import RMSprop\n",
    "from keras.utils.data_utils import get_file\n",
    "from keras.layers import Dropout # dropout crew 4 lyf\n",
    "import tensorflow as tf\n",
    "from tensorflow import keras as keras\n",
    "import numpy as np\n",
    "import random\n",
    "import sys\n",
    "import io\n",
    "import os\n",
    "import matplotlib.pyplot as plt # fancy plots\n",
    "from datetime import datetime # so we know how much time we've wasted\n",
    "\n",
    "print('TensorFlow version', tf.__version__)\n",
    "print('Keras version', keras.__version__)\n",
    "#print('SciPy version', scipy.__version__)\n",
    "print('Numpy version', np.__version__) \n",
    "#print('Pillow version', PIL.__version__) "
   ]
  },
  {
   "cell_type": "code",
   "execution_count": 3,
   "metadata": {},
   "outputs": [
    {
     "data": {
      "text/plain": [
       "{'divide': 'warn', 'over': 'warn', 'under': 'ignore', 'invalid': 'warn'}"
      ]
     },
     "execution_count": 3,
     "metadata": {},
     "output_type": "execute_result"
    }
   ],
   "source": [
    "# doin thangs\n",
    "epochs=60 #60\n",
    "epochOutput = False\n",
    "temperature = [0.2, 0.5, 1.0, 1.2]\n",
    "\n",
    "\n",
    "np.seterr(divide='ignore') # ignore divide by zero warnings"
   ]
  },
  {
   "cell_type": "code",
   "execution_count": 4,
   "metadata": {},
   "outputs": [
    {
     "name": "stdout",
     "output_type": "stream",
     "text": [
      "Loaded data/lotr1.txt\n",
      "corpus length : 969555\n",
      "unique chars  : 53\n",
      "total patterns: 323172\n",
      "\n",
      "Vectorizing...\n",
      "Done\n"
     ]
    }
   ],
   "source": [
    "## get text file and parse it\n",
    "\n",
    "#path = get_file( # use this for http request\n",
    "#    'afile.txt',\n",
    "#    origin='http://omega.lul/afile.txt')\n",
    "\n",
    "path = 'data/lotr1.txt'\n",
    "\n",
    "print('Loaded',path)\n",
    "\n",
    "# print sweet ~data~ about the file\n",
    "with open(path, encoding='utf-8', errors='ignore') as f: # errors=ignore strips non utf-8 chars\n",
    "    text = f.read().lower()\n",
    "\n",
    "chars = sorted(list(set(text)))\n",
    "\n",
    "char_indices = dict((c, i) for i, c in enumerate(chars))\n",
    "indices_char = dict((i, c) for i, c in enumerate(chars))\n",
    "\n",
    "# cut the text in semi-redundant sequences of maxlen characters\n",
    "maxlen = 40\n",
    "step = 3\n",
    "sentences = []\n",
    "next_chars = []\n",
    "for i in range(0, len(text) - maxlen, step):\n",
    "    sentences.append(text[i: i + maxlen])\n",
    "    next_chars.append(text[i + maxlen])\n",
    "\n",
    "print('corpus length :', len(text))\n",
    "print('unique chars  :', len(chars))\n",
    "print('total patterns:', len(sentences))\n",
    "print('') # empty line\n",
    "\n",
    "print('Vectorizing...')\n",
    "x = np.zeros((len(sentences), maxlen, len(chars)), dtype=np.bool)\n",
    "y = np.zeros((len(sentences), len(chars)), dtype=np.bool)\n",
    "for i, sentence in enumerate(sentences):\n",
    "    for t, char in enumerate(sentence):\n",
    "        x[i, t, char_indices[char]] = 1\n",
    "    y[i, char_indices[next_chars[i]]] = 1\n",
    "print('Done')"
   ]
  },
  {
   "cell_type": "code",
   "execution_count": 5,
   "metadata": {},
   "outputs": [
    {
     "name": "stdout",
     "output_type": "stream",
     "text": [
      "Building model...\n",
      "Done\n"
     ]
    }
   ],
   "source": [
    "## model\n",
    "# this has NO TEST DATASET\n",
    "\n",
    "print('Building model...')\n",
    "#model = Sequential()\n",
    "#model.add(LSTM(128, input_shape=(maxlen, len(chars))))\n",
    "#model.add(Dense(len(chars), activation='softmax'))\n",
    "#optimizer = RMSprop(learning_rate=0.01)\n",
    "#model.compile(loss='categorical_crossentropy', optimizer=optimizer)\n",
    "\n",
    "model = Sequential()\n",
    "model.add(LSTM(256, input_shape=(maxlen, len(chars))))\n",
    "model.add(Dropout(0.2))\n",
    "model.add(Dense(y.shape[1], activation='softmax'))\n",
    "model.compile(loss='categorical_crossentropy', optimizer='adam', metrics=['accuracy'])\n",
    "\n",
    "print('Done')"
   ]
  },
  {
   "cell_type": "code",
   "execution_count": 6,
   "metadata": {
    "scrolled": false
   },
   "outputs": [
    {
     "name": "stdout",
     "output_type": "stream",
     "text": [
      "Starting training at 07-Dec-2019 07:43:22 UTC\n",
      "Epoch 1/60\n",
      "323172/323172 [==============================] - 490s 2ms/step - loss: 2.1652 - accuracy: 0.3807\n",
      "Epoch 2/60\n",
      "323172/323172 [==============================] - 460s 1ms/step - loss: 1.7340 - accuracy: 0.4849\n",
      "Epoch 3/60\n",
      "323172/323172 [==============================] - 453s 1ms/step - loss: 1.5738 - accuracy: 0.5270\n",
      "Epoch 4/60\n",
      "323172/323172 [==============================] - 454s 1ms/step - loss: 1.4784 - accuracy: 0.5531\n",
      "Epoch 5/60\n",
      "323172/323172 [==============================] - 453s 1ms/step - loss: 1.4111 - accuracy: 0.5713\n",
      "Epoch 6/60\n",
      "323172/323172 [==============================] - 452s 1ms/step - loss: 1.3601 - accuracy: 0.5840\n",
      "Epoch 7/60\n",
      "323172/323172 [==============================] - 452s 1ms/step - loss: 1.3214 - accuracy: 0.5958\n",
      "Epoch 8/60\n",
      "323172/323172 [==============================] - 454s 1ms/step - loss: 1.2845 - accuracy: 0.6050\n",
      "Epoch 9/60\n",
      "323172/323172 [==============================] - 452s 1ms/step - loss: 1.2545 - accuracy: 0.6128\n",
      "Epoch 10/60\n",
      "323172/323172 [==============================] - 449s 1ms/step - loss: 1.2275 - accuracy: 0.6195\n",
      "Epoch 11/60\n",
      "323172/323172 [==============================] - 452s 1ms/step - loss: 1.2030 - accuracy: 0.6270\n",
      "Epoch 12/60\n",
      "323172/323172 [==============================] - 451s 1ms/step - loss: 1.1808 - accuracy: 0.6325\n",
      "Epoch 13/60\n",
      "323172/323172 [==============================] - 450s 1ms/step - loss: 1.1587 - accuracy: 0.6390\n",
      "Epoch 14/60\n",
      "323172/323172 [==============================] - 451s 1ms/step - loss: 1.1406 - accuracy: 0.6443\n",
      "Epoch 15/60\n",
      "323172/323172 [==============================] - 447s 1ms/step - loss: 1.1225 - accuracy: 0.6490\n",
      "Epoch 16/60\n",
      "323172/323172 [==============================] - 447s 1ms/step - loss: 1.1055 - accuracy: 0.6539\n",
      "Epoch 17/60\n",
      "323172/323172 [==============================] - 448s 1ms/step - loss: 1.0919 - accuracy: 0.6574\n",
      "Epoch 18/60\n",
      "323172/323172 [==============================] - 445s 1ms/step - loss: 1.0798 - accuracy: 0.6611\n",
      "Epoch 19/60\n",
      "323172/323172 [==============================] - 444s 1ms/step - loss: 1.0666 - accuracy: 0.6641\n",
      "Epoch 20/60\n",
      "323172/323172 [==============================] - 447s 1ms/step - loss: 1.0553 - accuracy: 0.6683\n",
      "Epoch 21/60\n",
      "323172/323172 [==============================] - 443s 1ms/step - loss: 1.0464 - accuracy: 0.6701\n",
      "Epoch 22/60\n",
      "323172/323172 [==============================] - 445s 1ms/step - loss: 1.0377 - accuracy: 0.6725\n",
      "Epoch 23/60\n",
      "323172/323172 [==============================] - 446s 1ms/step - loss: 1.0292 - accuracy: 0.6746\n",
      "Epoch 24/60\n",
      "323172/323172 [==============================] - 444s 1ms/step - loss: 1.0234 - accuracy: 0.6762\n",
      "Epoch 25/60\n",
      "323172/323172 [==============================] - 445s 1ms/step - loss: 1.0160 - accuracy: 0.6786\n",
      "Epoch 26/60\n",
      "323172/323172 [==============================] - 446s 1ms/step - loss: 1.0076 - accuracy: 0.6807\n",
      "Epoch 27/60\n",
      "323172/323172 [==============================] - 446s 1ms/step - loss: 1.0048 - accuracy: 0.6810\n",
      "Epoch 28/60\n",
      "323172/323172 [==============================] - 447s 1ms/step - loss: 0.9994 - accuracy: 0.6826\n",
      "Epoch 29/60\n",
      "323172/323172 [==============================] - 446s 1ms/step - loss: 0.9939 - accuracy: 0.6849\n",
      "Epoch 30/60\n",
      "323172/323172 [==============================] - 446s 1ms/step - loss: 0.9889 - accuracy: 0.6850\n",
      "Epoch 31/60\n",
      "323172/323172 [==============================] - 444s 1ms/step - loss: 0.9844 - accuracy: 0.6873\n",
      "Epoch 32/60\n",
      "323172/323172 [==============================] - 442s 1ms/step - loss: 0.9805 - accuracy: 0.6886\n",
      "Epoch 33/60\n",
      "323172/323172 [==============================] - 442s 1ms/step - loss: 0.9775 - accuracy: 0.6890\n",
      "Epoch 34/60\n",
      "323172/323172 [==============================] - 444s 1ms/step - loss: 0.9740 - accuracy: 0.6894\n",
      "Epoch 35/60\n",
      "323172/323172 [==============================] - 444s 1ms/step - loss: 0.9700 - accuracy: 0.6915\n",
      "Epoch 36/60\n",
      "323172/323172 [==============================] - 444s 1ms/step - loss: 0.9678 - accuracy: 0.6913\n",
      "Epoch 37/60\n",
      "323172/323172 [==============================] - 443s 1ms/step - loss: 0.9631 - accuracy: 0.6924\n",
      "Epoch 38/60\n",
      "323172/323172 [==============================] - 444s 1ms/step - loss: 0.9616 - accuracy: 0.6929\n",
      "Epoch 39/60\n",
      "323172/323172 [==============================] - 442s 1ms/step - loss: 0.9574 - accuracy: 0.6948\n",
      "Epoch 40/60\n",
      "323172/323172 [==============================] - 445s 1ms/step - loss: 0.9544 - accuracy: 0.6955\n",
      "Epoch 41/60\n",
      "323172/323172 [==============================] - 443s 1ms/step - loss: 0.9528 - accuracy: 0.6955\n",
      "Epoch 42/60\n",
      "323172/323172 [==============================] - 443s 1ms/step - loss: 0.9501 - accuracy: 0.6958\n",
      "Epoch 43/60\n",
      "323172/323172 [==============================] - 445s 1ms/step - loss: 0.9483 - accuracy: 0.6974\n",
      "Epoch 44/60\n",
      "323172/323172 [==============================] - 442s 1ms/step - loss: 0.9448 - accuracy: 0.6978\n",
      "Epoch 45/60\n",
      "323172/323172 [==============================] - 442s 1ms/step - loss: 0.9450 - accuracy: 0.6976\n",
      "Epoch 46/60\n",
      "323172/323172 [==============================] - 444s 1ms/step - loss: 0.9403 - accuracy: 0.6990\n",
      "Epoch 47/60\n",
      "323172/323172 [==============================] - 446s 1ms/step - loss: 0.9373 - accuracy: 0.7001\n",
      "Epoch 48/60\n",
      "323172/323172 [==============================] - 442s 1ms/step - loss: 0.9362 - accuracy: 0.7002\n",
      "Epoch 49/60\n",
      "323172/323172 [==============================] - 444s 1ms/step - loss: 0.9340 - accuracy: 0.7006\n",
      "Epoch 50/60\n",
      "323172/323172 [==============================] - 443s 1ms/step - loss: 0.9324 - accuracy: 0.7009\n",
      "Epoch 51/60\n",
      "323172/323172 [==============================] - 444s 1ms/step - loss: 0.9310 - accuracy: 0.7024\n",
      "Epoch 52/60\n",
      "323172/323172 [==============================] - 444s 1ms/step - loss: 0.9294 - accuracy: 0.7019\n",
      "Epoch 53/60\n",
      "323172/323172 [==============================] - 443s 1ms/step - loss: 0.9275 - accuracy: 0.7021\n",
      "Epoch 54/60\n",
      "323172/323172 [==============================] - 445s 1ms/step - loss: 0.9243 - accuracy: 0.7035\n",
      "Epoch 55/60\n",
      "323172/323172 [==============================] - 443s 1ms/step - loss: 0.9225 - accuracy: 0.7052\n",
      "Epoch 56/60\n",
      "323172/323172 [==============================] - 443s 1ms/step - loss: 0.9215 - accuracy: 0.7039\n",
      "Epoch 57/60\n",
      "323172/323172 [==============================] - 443s 1ms/step - loss: 0.9193 - accuracy: 0.7052\n",
      "Epoch 58/60\n",
      "323172/323172 [==============================] - 446s 1ms/step - loss: 0.9154 - accuracy: 0.7061\n",
      "Epoch 59/60\n",
      "323172/323172 [==============================] - 444s 1ms/step - loss: 0.9158 - accuracy: 0.7057\n",
      "Epoch 60/60\n",
      "323172/323172 [==============================] - 445s 1ms/step - loss: 0.9131 - accuracy: 0.7067\n",
      "Finished training at 07-Dec-2019 15:10:15\n",
      "Model summary:\n",
      "Model: \"sequential_1\"\n",
      "_________________________________________________________________\n",
      "Layer (type)                 Output Shape              Param #   \n",
      "=================================================================\n",
      "lstm_1 (LSTM)                (None, 256)               317440    \n",
      "_________________________________________________________________\n",
      "dropout_1 (Dropout)          (None, 256)               0         \n",
      "_________________________________________________________________\n",
      "dense_1 (Dense)              (None, 53)                13621     \n",
      "=================================================================\n",
      "Total params: 331,061\n",
      "Trainable params: 331,061\n",
      "Non-trainable params: 0\n",
      "_________________________________________________________________\n"
     ]
    }
   ],
   "source": [
    "# train me\n",
    "now = datetime.now()\n",
    "print(\"Starting training at\", now.strftime(\"%d-%b-%Y %H:%M:%S\"), 'UTC') # lets see how long this takes\n",
    "\n",
    "def sample(preds, temperature=1.0):\n",
    "    # helper function to sample an index from a probability array\n",
    "    preds = np.asarray(preds).astype('float64')\n",
    "    preds = np.log(preds) / temperature\n",
    "    exp_preds = np.exp(preds)\n",
    "    preds = exp_preds / np.sum(exp_preds)\n",
    "    probas = np.random.multinomial(1, preds, 1)\n",
    "    return np.argmax(probas)\n",
    "\n",
    "def on_epoch_end(epoch, _):\n",
    "    if epochOutput:\n",
    "        # print text at each epoch\n",
    "        print()\n",
    "        print('**************************** Generating text after Epoch: %d ****************************' % epoch)\n",
    "\n",
    "        start_index = random.randint(0, len(text) - maxlen - 1)\n",
    "        for temperature in [temperature]:\n",
    "            print('--------------- temperaturediversity: ', temperature, '---------------')\n",
    "\n",
    "            generated = ''\n",
    "            sentence = text[start_index: start_index + maxlen]\n",
    "            generated += sentence\n",
    "            print('--------------- seed: <', sentence,'>')\n",
    "            sys.stdout.write(generated)\n",
    "\n",
    "            for i in range(400):\n",
    "                x_pred = np.zeros((1, maxlen, len(chars)))\n",
    "                for t, char in enumerate(sentence):\n",
    "                    x_pred[0, t, char_indices[char]] = 1.\n",
    "\n",
    "                preds = model.predict(x_pred, verbose=0)[0]\n",
    "                next_index = sample(preds, temperaturediversity)\n",
    "                next_char = indices_char[next_index]\n",
    "\n",
    "                sentence = sentence[1:] + next_char\n",
    "                sys.stdout.write(next_char)\n",
    "                sys.stdout.flush()\n",
    "            print()\n",
    "\n",
    "print_callback = LambdaCallback(on_epoch_end=on_epoch_end)\n",
    "\n",
    "#es = EarlyStopping(monitor='val_accuracy', mode='max', min_delta=1)\n",
    "\n",
    "history = model.fit(x, y,\n",
    "          batch_size=128,\n",
    "          epochs=epochs,\n",
    "          callbacks=[print_callback])\n",
    "\n",
    "then = datetime.now()\n",
    "print(\"Finished training at\", then.strftime(\"%d-%b-%Y %H:%M:%S\")) # lets see how long this took\n",
    "\n",
    "print('Model summary:')\n",
    "model.summary()"
   ]
  },
  {
   "cell_type": "code",
   "execution_count": 7,
   "metadata": {},
   "outputs": [
    {
     "name": "stdout",
     "output_type": "stream",
     "text": [
      "Saving...\n",
      "Saved trained model at /tf/notebooks/trained_models/2019-12-07_07-43-22_trainedmodel.h5 \n",
      "Saved training summary at /tf/notebooks/trained_models/2019-12-07_07-43-22_modelsummary.txt\n",
      "Model is 4 MB\n"
     ]
    }
   ],
   "source": [
    "## save model log\n",
    "# this is where you pay attention to where you mapped the Docker dir to your local dir at run\n",
    "\n",
    "save_dir = os.path.join(os.getcwd(), 'trained_models')\n",
    "\n",
    "\n",
    "if not os.path.isdir(save_dir): # make dir if it doesn't exist\n",
    "    os.makedirs(save_dir)    \n",
    "    print(save_dir, 'doesn\\'t exist, creating it')\n",
    "\n",
    "print('Saving...') # do this because saving the model takes 5+ seconds sometimes\n",
    "\n",
    "# \n",
    "model_name = now.strftime(\"%Y-%m-%d_%H-%M-%S\") + '_trainedmodel.h5'\n",
    "summary_name = now.strftime(\"%Y-%m-%d_%H-%M-%S\") + '_modelsummary.txt'\n",
    "\n",
    "# save summary\n",
    "with open(os.path.join(save_dir, summary_name),'w') as fh:\n",
    "    # Pass the file handle in as a lambda function to make it callable\n",
    "    model.summary(print_fn=lambda x: fh.write(x + '\\n'))\n",
    "\n",
    "# save model\n",
    "model_path = os.path.join(save_dir, model_name)\n",
    "model.save(model_path)\n",
    "\n",
    "#model_path = os.path.join(save_dir, summary_name)\n",
    "#print(model_path)\n",
    "#model.save(model_path)\n",
    "  \n",
    "print('Saved trained model at %s ' % os.path.join(save_dir, model_name)) \n",
    "print('Saved training summary at %s' % os.path.join(save_dir, summary_name))   \n",
    "\n",
    "size = os.path.getsize(model_path) # note how big the model is because they're often huge\n",
    "print('Model is',round(size/1e+6),'MB')"
   ]
  },
  {
   "cell_type": "code",
   "execution_count": 8,
   "metadata": {},
   "outputs": [
    {
     "data": {
      "image/png": "[encoded data removed]",
      "text/plain": [
       "<Figure size 432x288 with 1 Axes>"
      ]
     },
     "metadata": {
      "needs_background": "light"
     },
     "output_type": "display_data"
    },
    {
     "data": {
      "image/png": "[encoded data removed]",
      "text/plain": [
       "<Figure size 432x288 with 1 Axes>"
      ]
     },
     "metadata": {
      "needs_background": "light"
     },
     "output_type": "display_data"
    }
   ],
   "source": [
    "## plot accuracy\n",
    "plt.plot(history.history['accuracy']) # kx or similar Matlab commands for plotting\n",
    "#plt.plot(history.history['val_accuracy'])\n",
    "plt.title('model accuracy')\n",
    "plt.ylabel('accuracy')\n",
    "plt.xlabel('epoch')\n",
    "plt.legend(['train', 'test'], loc='lower right')\n",
    "plt.show()\n",
    "\n",
    "# plot history\n",
    "plt.plot(history.history['loss'])\n",
    "#plt.plot(history.history['val_loss'])\n",
    "plt.title('model loss')\n",
    "plt.ylabel('loss')\n",
    "plt.xlabel('epoch')\n",
    "plt.legend(['train', 'test'], loc='upper right')\n",
    "plt.show()"
   ]
  },
  {
   "cell_type": "code",
   "execution_count": 15,
   "metadata": {
    "scrolled": false
   },
   "outputs": [
    {
     "name": "stdout",
     "output_type": "stream",
     "text": [
      "*** seed: < asts. elves or men, and all kindly creat >\n",
      "\n",
      " asts. elves or men, and all kindly creature in disaring,' cried sam a small like now and sighed. all came out of the black stars and his stone and drowned, some, sam, and the bendlon could sudden all the gleams of the lands from his arm on the tree.\n",
      "    madil had the stone above their good. for it was the north _for eventhat beyond the brief was speing, suddenly, hundrain in the rush blushed on their graves, if it was the gloom were green their, when it are disappeared. finuin he have forget the halt. poor elling many piles, the company nawed a side of the look at gildor and old the willd. he has weary. the cracks walk of elrond, made worked you any more of you, master of look, and wooded worss down a hall. for his harping passes, and come at the company falls bring, his kees were knocked.\n",
      "     alone stimsed at the bark with his broad, a smill on the hobbits, half a few away frodo and many rather could store they seemed his like the hobbits they are going back to me, you were uning the dir,' said maggits in the distremance of it fell, and an among the voice of joirery to elrond: it was round and smoke acturs and point somethed like a srien of recale, he was pooks in fain his ing. borne it was disqueeting in his own funce, but many silver pand of the fouths, whise, with two stays that they left his eyes under the gapen of it was a great room went on under the hall; but they looked out of the day; and the click of  he wind up the stared. after a pany night sented forcever that was not content up. the shadow gave it floak his wries.\n",
      "     `weating!\" he was half as frodo and the lands had crown and paling with a grey op looks towards the leader of more fow. fell in the council of he went air, and they comforidel ammelt once eaty whiling and passed. the langer as it glimpeded.\n",
      "     `now what are dreamed ote some things of this mindin strong. it is the nones to himself forter visions, where i time to merry earth, adventure amily, staring: it is a mirrorlion  thought their ponies and far fattwerh, behind them the less stonew and throw bitter came before their forest in the sprond shadows, or buckland, he felt that he had still have been across the window, thore was made at the silver they began to busting them him to a spear worn enem. but more than he was betoling in the horse. some lim said in the lands. blhat's hand he sit to me away and great under his leg warn horry day. `you had begen to ask as i couldn it wood and been are to take the great ring and merry but even at the sorth. and and before the ring is elment to say; we find his tain along the ring. he was listened alone to had the hind and small.\n",
      "     except the doss ow this attocks of the fact atter! for it was alreed the chold, it felt his mes. then an entware many wrong wander deed in the mountain. boromir has come seems, before the had been heard. it is a shiden glade they found him and be a patch, before him the bridge, but try that i thinks?' he was trilburant, maybe now behind the fiie clome, speick in the fire and silver, did not set a track worse quicker tide, hebped over the bilthing was faint leep.\n",
      "\n",
      "\n",
      "           ' he spide, luttling tirtherly\n",
      "           on that magas terright was thinking of strider. `it was not coming behind that even as throw mings to the rack on the tall trees, and an elf-frodon's friends proved an the betten water; and but lately sinking the ford back travellers that gandere with biffor. he soon the great rider casled them.\n",
      "     _go _crack, as you be strange bilbo fallen sight; but away in the of the heast the silver get this wild be down the deaving tonger, they destay debloce, and the mastering of surpess the fiest of was broke of a sudden feet.\n",
      "     'more tonight,' said frodo with a chair, 'what gon the orcstil mine accured in't me. but that and the white lands are destained. the corrais pane feat, will be made all the things: it talks on that dark hear fallen instirnous and bread and small on cracker. he saw between islone from the eastern since, they had felt him before, and all the slow now was grinning. gildor of when the sounds was reared, not restlessly and made and dark both him. 'the ought has been to cack!' he gut with rising half against the water in the day behind another vigiring leaves and listening stone of mirdle with it.\n",
      "     he cumbs in that sound of the elves.\n",
      "     'why wellon!' said frodo. 'but i think i have forced off of your owcanw you only seem? but i did not hope.' he thought to hime land before the bearer of his bright to their hobbits and the last brong cimbling slead id into the shire that they were hobbitoning is at elven-rooding the road. they all retold liuse, and i don't shall have to you with it. but i have quived. the during of your uppeal saw the pood hobbit-clot over the wind where we listened towards him.\n",
      "     'the meats and the slope from wilk and met will be tell you, and any of you will do be ore and go. i am told a nair. he by the stream in the gardens, and that called shappens. over his made an even even sight, and 'nade no funter with up chance done,\n",
      "           and went race to the elven\n",
      " _thickvis of the shadow move the stone.\n",
      "     the hobbits and food he has depliated by the bows if strong thrying ut the river like a stone shout was still often and chanced. the great near lands they throld. we are clear for a sign line as, and perishalf to singing it any of this gladd in your tangur, but one way is about them, and they would askning: have ever all ones   so it was allown said, yet for themsward it discover the tones, and there was a slaw end from the fame in the end.'\n",
      "     'there is a adown behred gamage with it?'\n",
      "     `it was the east of that moved the true stars, sam had breathed and a path, and gandalf had easted, and the circuroust you are. they were realonse abolt. it is now after by a harrow bell. i had happened in the elver-fount.'\n",
      "     `and what came to me again.' cried ponging up. `the will come in that talks in the whole of the dare that had made their e, and it was on the riders with forwars and his folk were arwed the live crews. when the hearts were coming and spaded. 'i go duar now fatey, i give us i laid his friendsongs, before some dim the hobbits made of chousts. with frodo was said and a new for your low,' he said about. i am let their boars of the way they since. he was trusk not now for those that was still more than a bread was sinich, and a bit of name night the open of the food and a sudden eyrour hat careed it the ring yet of far hell's road, and he was : had this long, and he more hope is prepints, toneyed land upon him; but her-mless open kindled the itsests in the dark window, with gillar amazere was standing. he said me, though the head behind his way. boromir he sam would get a latter above. the sounds of the walls of the light isled. 'i think that is one curning to as he knows, where we cannot be here as tom gold, which was now sleep when the pool hunds and growing legged hobbit-had betsered. \"side they are tombriks beyond we turn between thick the shadow-shadow; and merry had crisped at the dark hood, as he stood and a warm and among the slow news betwe him. they stood on an the barches of the water.'\n",
      "     he would tas sasing road the eastern shouther chier company, as if they had gandelf mile from me, though before the river slope for you, and the same time has overt him, i am celender and things or breaks, except for the ring, and he will very a glimpse of the old scramb. in great noise was not some, sam gamgee finger. 'the i master our gold be heired. i heard i will bear that to be purhoped it. but if you return do that it seems, i am going with unfall. as me is found many blandis, poorses; toousleep hardly heard their packs and gladden recances but necks between hapming face of the fire. the laggens she was close and looding it, and there was heard in their minds to gle takes. beyond sim helside through it, and i in his eyes made be and using a fear that comes tread right but over the sun, and they suddenly and a few trees feelling snow.\n"
     ]
    },
    {
     "name": "stdout",
     "output_type": "stream",
     "text": [
      "     `but not your long you and he cany to anything you until the lovers of dure os talf and be going to have done! that is consider. i have selrem. this eye we do not see your face where go,' said aragorn, lobting marr, wondering in the more kings, who thinks to his way before, silent for a moment through shadow laid with the least, wondering what were lock as thas line down. the road it round and once good off the cun and strange one ter things in frether again the fine night about him the flood was lighter mught but the water tage of grost no such course face white steep back or tall truth frodo began to gree. many lobt and men't taich soft, on the seats for these pippin in the water-poorsall. but he know mounts that bort ress was somelids, and flose. 'guesst balin's turn!' cried sam strider, strider hobbits and kning. 'speaks frodo would not more in the world. this was already he saw the last deams of soft mematiall; in here might be pillar. i have seonem to hear of my ajp their mighty thef let it glimmed that he he ad and which the fair en-king cousted he mist be some journey and passing and weary deered them from bilbo, and long as it was days. it thought of lives foundeed will of it, and a moment along, to his way, and aragorn was done.\n",
      "     'they would enco to much to aragor,' said boromir, you say at sitming the difreces to live. but you say my ableaterr should lear,' for tonghe mestenily, now for a moment! ' said frodo.\n",
      "     `the reginnssing the repermettic'l ast asking.\n",
      "     was he headd them, be strotthed black with rivendell. and that he was sit for a long blow. he thought now be. i thought he was less they possist. the sun was drinking soon from the grass shiling lowd; but stop in brack slaw green at the ook will be east of the shile,' he said, `i will have happened, and he has read dey sudden are not, worniers, was awase that full of change; and it as he know that it was now company now so partiolly his stores sweath a danger had before,\n"
     ]
    }
   ],
   "source": [
    "## set for the final output\n",
    "start_index = random.randint(0, len(text) - maxlen - 1)\n",
    "sentence = text[start_index: start_index + maxlen]\n",
    "randomizeOut = False\n",
    "temperaturediversity = 1.0 # 0.5? depends on training length\n",
    "maxChars = 10000 # 400 is same as above\n",
    "\n",
    "if randomizeOut:\n",
    "    generated = ''\n",
    "    sentence = text[start_index: start_index + maxlen]\n",
    "    generated += sentence\n",
    "\n",
    "seed = sentence.replace('\\n','')\n",
    "seed = seed.replace('\\t','')\n",
    "print('*** seed: <', seed ,'>')\n",
    "#sys.stdout.write(generated)\n",
    "\n",
    "print('\\n',seed, end = '')\n",
    "\n",
    "for i in range(maxChars):\n",
    "    x_pred = np.zeros((1, maxlen, len(chars)))\n",
    "    for t, char in enumerate(sentence):\n",
    "        x_pred[0, t, char_indices[char]] = 1.\n",
    "\n",
    "    preds = model.predict(x_pred, verbose=0)[0]\n",
    "    next_index = sample(preds, temperaturediversity)\n",
    "    next_char = indices_char[next_index]\n",
    "\n",
    "    sentence = sentence[1:] + next_char\n",
    "\n",
    "    sys.stdout.write(next_char)\n",
    "    sys.stdout.flush()\n",
    "print()"
   ]
  },
  {
   "cell_type": "code",
   "execution_count": null,
   "metadata": {},
   "outputs": [],
   "source": []
  }
 ],
 "metadata": {
  "kernelspec": {
   "display_name": "Python 3",
   "language": "python",
   "name": "python3"
  },
  "language_info": {
   "codemirror_mode": {
    "name": "ipython",
    "version": 3
   },
   "file_extension": ".py",
   "mimetype": "text/x-python",
   "name": "python",
   "nbconvert_exporter": "python",
   "pygments_lexer": "ipython3",
   "version": "3.6.8"
  }
 },
 "nbformat": 4,
 "nbformat_minor": 2
}
